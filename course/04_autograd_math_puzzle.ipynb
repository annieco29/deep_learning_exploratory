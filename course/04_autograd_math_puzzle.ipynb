{
 "cells": [
  {
   "cell_type": "markdown",
   "id": "28399f93-1628-48e9-9119-efa659212050",
   "metadata": {},
   "source": [
    "## Using Autograd to Solve a Math Puzzle"
   ]
  },
  {
   "cell_type": "code",
   "execution_count": 1,
   "id": "72923a4d-fd56-44a3-af4e-c469bf2f577a",
   "metadata": {},
   "outputs": [],
   "source": [
    "import random\n",
    "import torch"
   ]
  },
  {
   "cell_type": "code",
   "execution_count": 3,
   "id": "e7cb51c2-cf66-42ef-8205-1c0f4d7beaab",
   "metadata": {},
   "outputs": [
    {
     "name": "stdout",
     "output_type": "stream",
     "text": [
      "tensor(4.5808, requires_grad=True)\n",
      "tensor(4.4191, requires_grad=True)\n",
      "tensor(3.4192, requires_grad=True)\n",
      "tensor(2.4191, requires_grad=True)\n"
     ]
    }
   ],
   "source": [
    "# define the four unknowns as variables with a random initial value\n",
    "# compute the result of the four equations and compare it to the expected answer\n",
    "# sum up the squared error and ask PyTorch’s optimizer to minimize it\n",
    "\n",
    "A = torch.tensor(random.random(), requires_grad=True) \n",
    "B = torch.tensor(random.random(), requires_grad=True) \n",
    "C = torch.tensor(random.random(), requires_grad=True) \n",
    "D = torch.tensor(random.random(), requires_grad=True)\n",
    " # Gradient descent loop\n",
    "EPOCHS = 2000\n",
    "optimizer = torch.optim.NAdam([A, B, C, D], lr=0.01) \n",
    "for _ in range(EPOCHS):\n",
    "     y1 = A + B - 9\n",
    "     y2 = C - D - 1\n",
    "     y3 = A + C - 8\n",
    "     y4 = B - D - 2\n",
    "     sqerr = y1*y1 + y2*y2 + y3*y3 + y4*y4\n",
    "     optimizer.zero_grad()\n",
    "     sqerr.backward()\n",
    "     optimizer.step()\n",
    "print(A)\n",
    "print(B)\n",
    "print(C)\n",
    "print(D)"
   ]
  },
  {
   "cell_type": "code",
   "execution_count": null,
   "id": "2662f4d0-223f-49e5-9111-2327deb5f842",
   "metadata": {},
   "outputs": [],
   "source": []
  }
 ],
 "metadata": {
  "kernelspec": {
   "display_name": "Python 3 (ipykernel)",
   "language": "python",
   "name": "python3"
  },
  "language_info": {
   "codemirror_mode": {
    "name": "ipython",
    "version": 3
   },
   "file_extension": ".py",
   "mimetype": "text/x-python",
   "name": "python",
   "nbconvert_exporter": "python",
   "pygments_lexer": "ipython3",
   "version": "3.9.18"
  }
 },
 "nbformat": 4,
 "nbformat_minor": 5
}
