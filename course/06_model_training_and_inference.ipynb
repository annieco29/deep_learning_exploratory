{
 "cells": [
  {
   "cell_type": "markdown",
   "id": "71de04d8-fa28-4ecd-9ed5-f98e81176c0a",
   "metadata": {},
   "source": [
    "## Model Training and Inference in PyTorch"
   ]
  },
  {
   "cell_type": "code",
   "execution_count": 1,
   "id": "1ea3db54-0a7b-4747-8e36-97475f9ce96a",
   "metadata": {},
   "outputs": [],
   "source": [
    "import torch\n",
    "import torch.nn as nn"
   ]
  },
  {
   "cell_type": "code",
   "execution_count": null,
   "id": "cd7000ed-deda-455f-b533-eea72a126968",
   "metadata": {},
   "outputs": [],
   "source": [
    "optimizer = torch.optim.Adam(model.parameters(), lr=0.001)"
   ]
  },
  {
   "cell_type": "code",
   "execution_count": null,
   "id": "a457bf01-0bae-4ea7-a5e1-1635c7f038f0",
   "metadata": {},
   "outputs": [],
   "source": [
    "# example of a minimal training loop\n",
    "for n in range(num_epochs): \n",
    "    y_pred = model(X)\n",
    "    loss = loss_fn(y_pred, y)\n",
    "    optimizer.zero_grad() \n",
    "    loss.backward() \n",
    "    optimizer.step()"
   ]
  },
  {
   "cell_type": "code",
   "execution_count": null,
   "id": "0f835037-da49-4a9b-96a2-1a83e89197b2",
   "metadata": {},
   "outputs": [],
   "source": [
    "# save a model using PyTorch\n",
    "torch.save(model, \"my_model.pth\")"
   ]
  },
  {
   "cell_type": "code",
   "execution_count": null,
   "id": "a9e67520-cf49-4ccc-8efa-7a3a628bc86a",
   "metadata": {},
   "outputs": [],
   "source": [
    "# retrieve a model using PyTorch\n",
    "model = torch.load(\"my_model.pth\")"
   ]
  },
  {
   "cell_type": "code",
   "execution_count": null,
   "id": "3a7cc549-187a-49ce-9580-d349920b70a2",
   "metadata": {},
   "outputs": [],
   "source": [
    "# save only the model weights\n",
    "torch.save(model.state_dict(), \"my_model.pth\")"
   ]
  },
  {
   "cell_type": "code",
   "execution_count": null,
   "id": "e9ffd28f-a23b-4f86-90c3-7c8372740651",
   "metadata": {},
   "outputs": [],
   "source": [
    "# retrieve the model weights after rebuilding the model\n",
    "model = nn.Sequential(...)\n",
    "model.load_state_dict(torch.load(\"my_model.pth\"))"
   ]
  }
 ],
 "metadata": {
  "kernelspec": {
   "display_name": "Python 3 (ipykernel)",
   "language": "python",
   "name": "python3"
  },
  "language_info": {
   "codemirror_mode": {
    "name": "ipython",
    "version": 3
   },
   "file_extension": ".py",
   "mimetype": "text/x-python",
   "name": "python",
   "nbconvert_exporter": "python",
   "pygments_lexer": "ipython3",
   "version": "3.9.18"
  }
 },
 "nbformat": 4,
 "nbformat_minor": 5
}
