{
 "cells": [
  {
   "cell_type": "markdown",
   "id": "846aa998-b401-4ce4-bad9-904b2f6b2f2c",
   "metadata": {},
   "source": [
    "## Multilayer Perceptron Building Blocks in PyTorch"
   ]
  },
  {
   "cell_type": "code",
   "execution_count": 4,
   "id": "33b2fbf0-e09d-4335-85b0-b59e14e78353",
   "metadata": {},
   "outputs": [],
   "source": [
    "import torch\n",
    "import torch.nn as nn\n",
    "from collections import OrderedDict"
   ]
  },
  {
   "cell_type": "code",
   "execution_count": 3,
   "id": "4038c128-db8e-4a28-8daa-baefc049d716",
   "metadata": {},
   "outputs": [
    {
     "name": "stdout",
     "output_type": "stream",
     "text": [
      "Sequential(\n",
      "  (0): Linear(in_features=764, out_features=100, bias=True)\n",
      "  (1): ReLU()\n",
      "  (2): Linear(in_features=100, out_features=50, bias=True)\n",
      "  (3): ReLU()\n",
      "  (4): Linear(in_features=50, out_features=10, bias=True)\n",
      "  (5): Sigmoid()\n",
      ")\n"
     ]
    }
   ],
   "source": [
    "# create a Sequential model and define all the layers in one shot\n",
    "model = nn.Sequential(nn.Linear(764, 100),\n",
    "    nn.ReLU(),\n",
    "    nn.Linear(100, 50),\n",
    "    nn.ReLU(),\n",
    "    nn.Linear(50, 10),\n",
    "    nn.Sigmoid())\n",
    "print(model)"
   ]
  },
  {
   "cell_type": "code",
   "execution_count": 5,
   "id": "243acece-e47e-46f1-9a4a-ec3cf9b0194f",
   "metadata": {},
   "outputs": [
    {
     "name": "stdout",
     "output_type": "stream",
     "text": [
      "Sequential(\n",
      "  (dense1): Linear(in_features=764, out_features=100, bias=True)\n",
      "  (act1): ReLU()\n",
      "  (dense2): Linear(in_features=100, out_features=50, bias=True)\n",
      "  (act2): ReLU()\n",
      "  (output): Linear(in_features=50, out_features=10, bias=True)\n",
      "  (outact): Sigmoid()\n",
      ")\n"
     ]
    }
   ],
   "source": [
    "# pass in an ordered dictionary to Sequential and assign names to each layer\n",
    "model = nn.Sequential(OrderedDict([\n",
    "     ('dense1', nn.Linear(764, 100)),\n",
    "     ('act1', nn.ReLU()),\n",
    "     ('dense2', nn.Linear(100, 50)),\n",
    "     ('act2', nn.ReLU()),\n",
    "     ('output', nn.Linear(50, 10)),\n",
    "     ('outact', nn.Sigmoid()),\n",
    " ]))\n",
    "print(model)"
   ]
  },
  {
   "cell_type": "code",
   "execution_count": 6,
   "id": "9bd8c61c-211c-40db-8746-b7b419acebc6",
   "metadata": {},
   "outputs": [
    {
     "name": "stdout",
     "output_type": "stream",
     "text": [
      "Sequential(\n",
      "  (dense1): Linear(in_features=8, out_features=12, bias=True)\n",
      "  (act1): ReLU()\n",
      "  (dense2): Linear(in_features=12, out_features=8, bias=True)\n",
      "  (act2): ReLU()\n",
      "  (output): Linear(in_features=8, out_features=1, bias=True)\n",
      "  (outact): Sigmoid()\n",
      ")\n"
     ]
    }
   ],
   "source": [
    "# build the layers one by one instead of doing everything in one shot\n",
    "model = nn.Sequential()\n",
    "model.add_module(\"dense1\", nn.Linear(8, 12))\n",
    "model.add_module(\"act1\", nn.ReLU())\n",
    "model.add_module(\"dense2\", nn.Linear(12, 8))\n",
    "model.add_module(\"act2\", nn.ReLU())\n",
    "model.add_module(\"output\", nn.Linear(8, 1))\n",
    "model.add_module(\"outact\", nn.Sigmoid())\n",
    "print(model)"
   ]
  },
  {
   "cell_type": "code",
   "execution_count": null,
   "id": "04d7307e-3baa-4e8e-b325-754c437dad43",
   "metadata": {},
   "outputs": [],
   "source": []
  }
 ],
 "metadata": {
  "kernelspec": {
   "display_name": "Python 3 (ipykernel)",
   "language": "python",
   "name": "python3"
  },
  "language_info": {
   "codemirror_mode": {
    "name": "ipython",
    "version": 3
   },
   "file_extension": ".py",
   "mimetype": "text/x-python",
   "name": "python",
   "nbconvert_exporter": "python",
   "pygments_lexer": "ipython3",
   "version": "3.9.18"
  }
 },
 "nbformat": 4,
 "nbformat_minor": 5
}
